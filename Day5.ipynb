{
 "cells": [
  {
   "cell_type": "markdown",
   "id": "1060c7ad",
   "metadata": {},
   "source": [
    "# Shallow and Deep copy"
   ]
  },
  {
   "cell_type": "markdown",
   "id": "f97fab6a",
   "metadata": {},
   "source": [
    "Shallow Copy stores the references of objects to the original memory address.   \n",
    "Deep copy stores copies of the object’s value.\n",
    "\n",
    "Shallow Copy reflects changes made to the new/copied object in the original object.\n",
    "Deep copy doesn’t reflect changes made to the new/copied object in the original object.\n",
    "\n",
    "Shallow Copy stores the copy of the original object and points the references to the objects.\n",
    "Deep copy stores the copy of the original object and recursively copies the objects as well.\n",
    "\n",
    "Shallow copy is faster.\n",
    "Deep copy is comparatively slower."
   ]
  },
  {
   "cell_type": "markdown",
   "id": "586f96fc",
   "metadata": {},
   "source": [
    "Solution 3: \n",
    "Statements represent an action or command e.g print statements, assignment statements.\n",
    "\n",
    "Expression is a combination of variables, operations and values that yields a result value.\n"
   ]
  },
  {
   "cell_type": "markdown",
   "id": "63f30c79",
   "metadata": {},
   "source": [
    "# Primary Data types"
   ]
  },
  {
   "cell_type": "markdown",
   "id": "5cb2cc20",
   "metadata": {},
   "source": [
    "Primary data types, also known as ‘primitive data type’ or ‘fundamental data type’, are the built-in data types that are provided by the programming language.\n",
    "int\n",
    "float\n",
    "complex\n",
    "\n",
    "String\n",
    "List\n",
    "Tuple\n",
    "Dictionary\n",
    "Boolean \n",
    "Set\n"
   ]
  },
  {
   "cell_type": "markdown",
   "id": "bad4b24f",
   "metadata": {},
   "source": [
    "# Secondary data types\n"
   ]
  },
  {
   "cell_type": "markdown",
   "id": "58ef27ac",
   "metadata": {},
   "source": [
    "The user-defined data type defines the data in the way that the programmer chooses. \n",
    "Class\n",
    "Structure"
   ]
  },
  {
   "cell_type": "markdown",
   "id": "86e32e8d",
   "metadata": {},
   "source": [
    "A function that you define yourself in a program is known as user defined function. You can give any name to a user defined function, however you cannot use the Python keywords as function name.\n",
    "\n",
    "In python, we define the user-defined function using def keyword, followed by the function name.\n",
    "\n",
    "Function name is followed by the parameters in parenthesis, followed by the colon\n",
    "\n",
    "def function_name(parameter_1, parameter_2, ...) :\n",
    "      statements\n",
    "      ...."
   ]
  },
  {
   "cell_type": "code",
   "execution_count": null,
   "id": "9cd3130a",
   "metadata": {},
   "outputs": [],
   "source": []
  }
 ],
 "metadata": {
  "kernelspec": {
   "display_name": "Python 3",
   "language": "python",
   "name": "python3"
  },
  "language_info": {
   "codemirror_mode": {
    "name": "ipython",
    "version": 3
   },
   "file_extension": ".py",
   "mimetype": "text/x-python",
   "name": "python",
   "nbconvert_exporter": "python",
   "pygments_lexer": "ipython3",
   "version": "3.8.8"
  }
 },
 "nbformat": 4,
 "nbformat_minor": 5
}
