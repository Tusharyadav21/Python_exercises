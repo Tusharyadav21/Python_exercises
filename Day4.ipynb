{
 "cells": [
  {
   "cell_type": "markdown",
   "id": "b1769866",
   "metadata": {},
   "source": [
    "# Split Method"
   ]
  },
  {
   "cell_type": "markdown",
   "id": "24b0263f",
   "metadata": {},
   "source": [
    "The split() method splits a string into a list.\n",
    "\n",
    "You can specify the separator, default separator is any whitespace.\n",
    "\n",
    "Note: When maxsplit is specified, the list will contain the specified number of elements plus one.\\\n",
    "\n",
    "\n",
    "string.split(separator, maxsplit)\n"
   ]
  },
  {
   "cell_type": "code",
   "execution_count": 1,
   "id": "69f76b61",
   "metadata": {},
   "outputs": [
    {
     "name": "stdout",
     "output_type": "stream",
     "text": [
      "['apple', 'banana#cherry#orange']\n"
     ]
    }
   ],
   "source": [
    "txt = \"apple#banana#cherry#orange\"\n",
    "\n",
    "x = txt.split(\"#\", 1)\n",
    "\n",
    "print(x)"
   ]
  },
  {
   "cell_type": "markdown",
   "id": "bbc6fccd",
   "metadata": {},
   "source": [
    "# Strip Method"
   ]
  },
  {
   "cell_type": "markdown",
   "id": "c08bc90d",
   "metadata": {},
   "source": [
    "The strip() method removes any leading (spaces at the beginning) and trailing (spaces at the end) characters (space is the default leading character to remove)\n",
    "\n",
    "string.strip(characters)"
   ]
  },
  {
   "cell_type": "code",
   "execution_count": 2,
   "id": "8473d397",
   "metadata": {},
   "outputs": [
    {
     "name": "stdout",
     "output_type": "stream",
     "text": [
      "banana\n"
     ]
    }
   ],
   "source": [
    "txt = \",,,,,rrttgg.....banana....rrr\"\n",
    "\n",
    "x = txt.strip(\",.grt\")\n",
    "\n",
    "print(x)\n"
   ]
  },
  {
   "cell_type": "markdown",
   "id": "398a0e7e",
   "metadata": {},
   "source": [
    "# Replace Method"
   ]
  },
  {
   "cell_type": "markdown",
   "id": "d9ddb42b",
   "metadata": {},
   "source": [
    "The replace() method replaces a specified phrase with another specified phrase.\n",
    "\n",
    "Note: All occurrences of the specified phrase will be replaced, if nothing else is specified.\n",
    "\n",
    "string.replace(oldvalue, newvalue, count)"
   ]
  },
  {
   "cell_type": "code",
   "execution_count": 3,
   "id": "eb47a62a",
   "metadata": {},
   "outputs": [
    {
     "name": "stdout",
     "output_type": "stream",
     "text": [
      "three three was a race horse, two two was one too.\n"
     ]
    }
   ],
   "source": [
    "txt = \"one one was a race horse, two two was one too.\"\n",
    "\n",
    "x = txt.replace(\"one\", \"three\", 2)\n",
    "\n",
    "print(x)"
   ]
  },
  {
   "cell_type": "markdown",
   "id": "3419e33c",
   "metadata": {},
   "source": [
    "# Center Method\n"
   ]
  },
  {
   "cell_type": "markdown",
   "id": "0c131aba",
   "metadata": {},
   "source": [
    "The center() method will center align the string, using a specified character (space is default) as the fill character.\n",
    "\n",
    "string.center(length, character)"
   ]
  },
  {
   "cell_type": "code",
   "execution_count": 4,
   "id": "b6a82332",
   "metadata": {},
   "outputs": [
    {
     "name": "stdout",
     "output_type": "stream",
     "text": [
      "OOOOOOObananaOOOOOOO\n"
     ]
    }
   ],
   "source": [
    "txt = \"banana\"\n",
    "\n",
    "x = txt.center(20, \"O\")\n",
    "\n",
    "print(x)"
   ]
  },
  {
   "cell_type": "markdown",
   "id": "b45b1432",
   "metadata": {},
   "source": [
    "# Title Method"
   ]
  },
  {
   "cell_type": "markdown",
   "id": "4befc818",
   "metadata": {},
   "source": [
    "The title() method returns a string where the first character in every word is upper case. Like a header, or a title.\n",
    "\n",
    "If the word contains a number or a symbol, the first letter after that will be converted to upper case.\n",
    "\n",
    "string.title()"
   ]
  },
  {
   "cell_type": "code",
   "execution_count": 5,
   "id": "82ccf756",
   "metadata": {},
   "outputs": [
    {
     "name": "stdout",
     "output_type": "stream",
     "text": [
      "Hello B2B2B2 And 3G3G3G\n"
     ]
    }
   ],
   "source": [
    "txt = \"hello b2b2b2 and 3g3g3g\"\n",
    "\n",
    "x = txt.title()\n",
    "\n",
    "print(x)"
   ]
  },
  {
   "cell_type": "markdown",
   "id": "b84876f7",
   "metadata": {},
   "source": [
    "# List Data Types"
   ]
  },
  {
   "cell_type": "markdown",
   "id": "1a5f6337",
   "metadata": {},
   "source": [
    "# append()\n"
   ]
  },
  {
   "cell_type": "code",
   "execution_count": 6,
   "id": "352a8028",
   "metadata": {},
   "outputs": [
    {
     "name": "stdout",
     "output_type": "stream",
     "text": [
      "['apple', 'banana', 'cherry', 'orange']\n"
     ]
    }
   ],
   "source": [
    "thislist = [\"apple\", \"banana\", \"cherry\"]\n",
    "thislist.append(\"orange\")\n",
    "print(thislist)"
   ]
  },
  {
   "cell_type": "markdown",
   "id": "1bd32ab4",
   "metadata": {},
   "source": [
    "# remove()"
   ]
  },
  {
   "cell_type": "code",
   "execution_count": 7,
   "id": "bb3426da",
   "metadata": {},
   "outputs": [
    {
     "name": "stdout",
     "output_type": "stream",
     "text": [
      "['apple', 'cherry']\n"
     ]
    }
   ],
   "source": [
    "thislist = [\"apple\", \"banana\", \"cherry\"]\n",
    "thislist.remove(\"banana\")\n",
    "print(thislist)"
   ]
  },
  {
   "cell_type": "markdown",
   "id": "2cd62699",
   "metadata": {},
   "source": [
    "# pop()"
   ]
  },
  {
   "cell_type": "markdown",
   "id": "ef02b707",
   "metadata": {},
   "source": [
    "Note: If not specified which one to remove, it will remove from the last."
   ]
  },
  {
   "cell_type": "code",
   "execution_count": 9,
   "id": "da0b9898",
   "metadata": {},
   "outputs": [
    {
     "name": "stdout",
     "output_type": "stream",
     "text": [
      "['apple', 'cherry']\n"
     ]
    }
   ],
   "source": [
    "thislist = [\"apple\", \"banana\", \"cherry\"]\n",
    "thislist.pop(1)\n",
    "print(thislist)"
   ]
  },
  {
   "cell_type": "markdown",
   "id": "b5476fa7",
   "metadata": {},
   "source": [
    "# sort()"
   ]
  },
  {
   "cell_type": "markdown",
   "id": "d8cae9d9",
   "metadata": {},
   "source": [
    "The sort() method sorts the list ascending by default.\n",
    "\n",
    "You can also make a function to decide the sorting criteria(s).\n",
    "\n",
    "list.sort(reverse=True|False, key=myFunc)"
   ]
  },
  {
   "cell_type": "code",
   "execution_count": 12,
   "id": "936d1074",
   "metadata": {},
   "outputs": [
    {
     "name": "stdout",
     "output_type": "stream",
     "text": [
      "['Volvo', 'Ford', 'BMW']\n"
     ]
    }
   ],
   "source": [
    "cars = ['Ford', 'BMW', 'Volvo']\n",
    "\n",
    "cars.sort(reverse=True)\n",
    "print(cars)"
   ]
  },
  {
   "cell_type": "code",
   "execution_count": 16,
   "id": "578c1257",
   "metadata": {},
   "outputs": [],
   "source": [
    "Language = [ 'java', 'c', 'c++', 'ruby' ]\n",
    "Company = ['Dassault','Infosys','TCS']\n",
    "cars_brands = ['Ford', 'Mitsubishi', 'BMW', 'VW']\n",
    "C_parts = ['Processor','Ram','SSD','Motherboard']\n",
    "C_brands = ['Apple','HP','Dell','Lenovo']"
   ]
  },
  {
   "cell_type": "markdown",
   "id": "a96369db",
   "metadata": {},
   "source": []
  },
  {
   "cell_type": "markdown",
   "id": "a2a67cda",
   "metadata": {},
   "source": []
  },
  {
   "cell_type": "markdown",
   "id": "e453368c",
   "metadata": {},
   "source": [
    "# Mutable and Immutable"
   ]
  },
  {
   "cell_type": "markdown",
   "id": "f687ea0a",
   "metadata": {},
   "source": [
    "Mutable objects can change their state or contents and immutable objects can’t change their state or content.\n",
    "\n",
    "Mutable example : list, dict, set.\n",
    "\n",
    "Immutable Example : int, float, bool, string, unicode, tuple."
   ]
  },
  {
   "cell_type": "markdown",
   "id": "0875dc23",
   "metadata": {},
   "source": [
    "# Identifiers"
   ]
  },
  {
   "cell_type": "markdown",
   "id": "77e9ad3f",
   "metadata": {},
   "source": [
    "An identifier is a name given to entities like class, functions, variables, etc. It helps to differentiate one entity from another."
   ]
  },
  {
   "cell_type": "markdown",
   "id": "9d88608e",
   "metadata": {},
   "source": [
    "1.Identifiers can be a combination of letters in lowercase (a to z) or uppercase (A to Z) or digits (0 to 9) or an underscore _. Names like myClass, var_1 and print_this_to_screen, all are valid example.\n",
    "\n",
    "2.An identifier cannot start with a digit. 1variable is invalid, but variable1 is a valid name.\n",
    "\n",
    "3.Keywords cannot be used as identifiers.\n",
    "\n",
    "4.We cannot use special symbols like !, @, #, $, % etc. in our identifier.\n",
    "\n",
    "5.An identifier can be of any length."
   ]
  },
  {
   "cell_type": "code",
   "execution_count": null,
   "id": "214ea71d",
   "metadata": {},
   "outputs": [],
   "source": []
  }
 ],
 "metadata": {
  "kernelspec": {
   "display_name": "Python 3",
   "language": "python",
   "name": "python3"
  },
  "language_info": {
   "codemirror_mode": {
    "name": "ipython",
    "version": 3
   },
   "file_extension": ".py",
   "mimetype": "text/x-python",
   "name": "python",
   "nbconvert_exporter": "python",
   "pygments_lexer": "ipython3",
   "version": "3.8.8"
  }
 },
 "nbformat": 4,
 "nbformat_minor": 5
}
